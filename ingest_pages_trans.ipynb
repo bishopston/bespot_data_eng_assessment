{
 "cells": [
  {
   "cell_type": "code",
   "execution_count": 1,
   "metadata": {},
   "outputs": [],
   "source": [
    "import findspark\n",
    "findspark.init()"
   ]
  },
  {
   "cell_type": "code",
   "execution_count": 2,
   "metadata": {},
   "outputs": [],
   "source": [
    "from pyspark.sql import SparkSession"
   ]
  },
  {
   "cell_type": "code",
   "execution_count": 3,
   "metadata": {},
   "outputs": [],
   "source": [
    "from pyspark.sql.types import StructType, StructField, IntegerType, StringType"
   ]
  },
  {
   "cell_type": "code",
   "execution_count": 4,
   "metadata": {},
   "outputs": [],
   "source": [
    "from pyspark.sql.functions import current_timestamp"
   ]
  },
  {
   "cell_type": "code",
   "execution_count": 5,
   "metadata": {},
   "outputs": [
    {
     "name": "stdout",
     "output_type": "stream",
     "text": [
      "23/05/26 20:59:50 WARN Utils: Your hostname, alexandros-OptiPlex-3010 resolves to a loopback address: 127.0.1.1; using 192.168.1.17 instead (on interface enp2s0)\n",
      "23/05/26 20:59:51 WARN Utils: Set SPARK_LOCAL_IP if you need to bind to another address\n",
      "23/05/26 20:59:52 WARN NativeCodeLoader: Unable to load native-hadoop library for your platform... using builtin-java classes where applicable\n"
     ]
    },
    {
     "name": "stderr",
     "output_type": "stream",
     "text": [
      "Setting default log level to \"WARN\".\n",
      "To adjust logging level use sc.setLogLevel(newLevel). For SparkR, use setLogLevel(newLevel).\n"
     ]
    },
    {
     "name": "stdout",
     "output_type": "stream",
     "text": [
      "23/05/26 20:59:55 WARN Utils: Service 'SparkUI' could not bind on port 4040. Attempting port 4041.\n"
     ]
    }
   ],
   "source": [
    "spark = SparkSession \\\n",
    "    .builder \\\n",
    "    .appName(\"Bespot app\") \\\n",
    "    .config(\"spark.executor.extraClassPath\", \"/path/to/postgresql-42.6.0.jar\") \\\n",
    "    .config(\"spark.jars\", \"/path/to/postgresql-42.6.0.jar\") \\\n",
    "    .getOrCreate()"
   ]
  },
  {
   "cell_type": "code",
   "execution_count": 6,
   "metadata": {},
   "outputs": [],
   "source": [
    "dataset1_schema = StructType(fields=[StructField(\"user\", StringType(), False),\n",
    "                                     StructField(\"session_id\", StringType(), False),\n",
    "                                     StructField(\"timestamp\", IntegerType(), False),\n",
    "                                     StructField(\"page\", StringType(), False),\n",
    "])"
   ]
  },
  {
   "cell_type": "code",
   "execution_count": 7,
   "metadata": {},
   "outputs": [],
   "source": [
    "dataset2_schema = StructType(fields=[StructField(\"user\", StringType(), False),\n",
    "                                     StructField(\"session_id\", StringType(), False),\n",
    "                                     StructField(\"timestamp\", IntegerType(), False),\n",
    "                                     StructField(\"transaction\", StringType(), False),\n",
    "])"
   ]
  },
  {
   "cell_type": "code",
   "execution_count": 8,
   "metadata": {},
   "outputs": [],
   "source": [
    "\n",
    "df_dataset1 = spark.read.option(\"header\", True).schema(dataset1_schema).csv(r\"dataset1.csv\")\n",
    "df_dataset1 = df_dataset1.withColumnRenamed(\"user\", \"user_id\") \\\n",
    "                        .withColumn(\"created_on\", current_timestamp())\n"
   ]
  },
  {
   "cell_type": "code",
   "execution_count": 9,
   "metadata": {},
   "outputs": [],
   "source": [
    "df_dataset2 = spark.read.option(\"header\", True).schema(dataset2_schema).csv(r\"dataset2.csv\")\n",
    "df_dataset2 = df_dataset2.withColumnRenamed(\"user\", \"user_id\") \\\n",
    "                        .withColumn(\"created_on\", current_timestamp())\n"
   ]
  },
  {
   "cell_type": "code",
   "execution_count": 10,
   "metadata": {},
   "outputs": [],
   "source": [
    "url = \"jdbc:postgresql://localhost:5432/bespot1\"\n",
    "\n",
    "properties = {\n",
    "    \"user\": \"myprojectuser\",\n",
    "    \"password\": \"password\",\n",
    "    \"driver\": \"org.postgresql.Driver\"\n",
    "}\n",
    "\n",
    "mode = \"append\""
   ]
  },
  {
   "cell_type": "code",
   "execution_count": 11,
   "metadata": {},
   "outputs": [
    {
     "name": "stderr",
     "output_type": "stream",
     "text": [
      "                                                                                \r"
     ]
    }
   ],
   "source": [
    "df_dataset1.write.jdbc(url=url, table='user_pages_process', mode=mode, properties=properties)"
   ]
  },
  {
   "cell_type": "code",
   "execution_count": 12,
   "metadata": {},
   "outputs": [
    {
     "name": "stderr",
     "output_type": "stream",
     "text": [
      "                                                                                \r"
     ]
    }
   ],
   "source": [
    "df_dataset2.write.jdbc(url=url, table='user_trans_process', mode=mode, properties=properties)"
   ]
  },
  {
   "cell_type": "code",
   "execution_count": null,
   "metadata": {},
   "outputs": [],
   "source": []
  }
 ],
 "metadata": {
  "kernelspec": {
   "display_name": "base",
   "language": "python",
   "name": "python3"
  },
  "language_info": {
   "codemirror_mode": {
    "name": "ipython",
    "version": 3
   },
   "file_extension": ".py",
   "mimetype": "text/x-python",
   "name": "python",
   "nbconvert_exporter": "python",
   "pygments_lexer": "ipython3",
   "version": "3.9.16"
  },
  "orig_nbformat": 4
 },
 "nbformat": 4,
 "nbformat_minor": 2
}
