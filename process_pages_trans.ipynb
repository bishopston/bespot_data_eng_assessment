{
 "cells": [
  {
   "cell_type": "code",
   "execution_count": 35,
   "metadata": {},
   "outputs": [],
   "source": [
    "import findspark\n",
    "findspark.init()"
   ]
  },
  {
   "cell_type": "code",
   "execution_count": 36,
   "metadata": {},
   "outputs": [],
   "source": [
    "from pyspark.sql import SparkSession"
   ]
  },
  {
   "cell_type": "code",
   "execution_count": 37,
   "metadata": {},
   "outputs": [],
   "source": [
    "from pyspark.sql.functions import count, desc, rank, avg, round, current_timestamp\n",
    "from pyspark.sql.window import Window"
   ]
  },
  {
   "cell_type": "code",
   "execution_count": 38,
   "metadata": {},
   "outputs": [],
   "source": [
    "spark = SparkSession \\\n",
    "    .builder \\\n",
    "    .appName(\"Bespot app\") \\\n",
    "    .config(\"spark.executor.extraClassPath\", \"/path/to/postgresql-42.6.0.jar\") \\\n",
    "    .config(\"spark.jars\", \"/path/to/postgresql-42.6.0.jar\") \\\n",
    "    .getOrCreate()"
   ]
  },
  {
   "cell_type": "code",
   "execution_count": 39,
   "metadata": {},
   "outputs": [],
   "source": [
    "df_dataset1 = spark.read.jdbc(url = \"jdbc:postgresql://localhost:5432/bespot1\", \n",
    "                     table = \"(SELECT * FROM user_pages_process) AS pages_table\",\n",
    "                     properties={\"user\": \"myprojectuser\", \"password\": \"password\", \"driver\": 'org.postgresql.Driver'})\n"
   ]
  },
  {
   "cell_type": "code",
   "execution_count": 40,
   "metadata": {},
   "outputs": [],
   "source": [
    "df_dataset1 = df_dataset1.withColumnRenamed(\"timestamp\", \"timestamp_page\")"
   ]
  },
  {
   "cell_type": "code",
   "execution_count": 41,
   "metadata": {},
   "outputs": [],
   "source": [
    "df_dataset2 = spark.read.jdbc(url = \"jdbc:postgresql://localhost:5432/bespot1\", \n",
    "                     table = \"(SELECT * FROM user_trans_process) AS trans_table\",\n",
    "                     properties={\"user\": \"myprojectuser\", \"password\": \"password\", \"driver\": 'org.postgresql.Driver'})"
   ]
  },
  {
   "cell_type": "code",
   "execution_count": 42,
   "metadata": {},
   "outputs": [],
   "source": [
    "df_dataset2 = df_dataset2.withColumnRenamed(\"timestamp\", \"timestamp_trans\")  "
   ]
  },
  {
   "attachments": {},
   "cell_type": "markdown",
   "metadata": {},
   "source": [
    "Page popularity:"
   ]
  },
  {
   "cell_type": "code",
   "execution_count": 43,
   "metadata": {},
   "outputs": [],
   "source": [
    "page_count_df = df_dataset1.groupBy(\"page\").agg(count(\"page\").alias(\"page_count\"))"
   ]
  },
  {
   "cell_type": "code",
   "execution_count": 44,
   "metadata": {},
   "outputs": [],
   "source": [
    "pageRankSpec = Window.orderBy(desc(\"page_count\"))\n",
    "page_popularity_df = page_count_df.withColumn(\"rank\", rank().over(pageRankSpec))"
   ]
  },
  {
   "cell_type": "code",
   "execution_count": 45,
   "metadata": {},
   "outputs": [],
   "source": [
    "page_popularity_df = page_popularity_df.withColumn(\"created_on\", current_timestamp())"
   ]
  },
  {
   "cell_type": "code",
   "execution_count": 46,
   "metadata": {},
   "outputs": [
    {
     "name": "stdout",
     "output_type": "stream",
     "text": [
      "23/05/26 21:00:39 WARN WindowExec: No Partition Defined for Window operation! Moving all data to a single partition, this can cause serious performance degradation.\n",
      "23/05/26 21:00:39 WARN WindowExec: No Partition Defined for Window operation! Moving all data to a single partition, this can cause serious performance degradation.\n",
      "23/05/26 21:00:39 WARN WindowExec: No Partition Defined for Window operation! Moving all data to a single partition, this can cause serious performance degradation.\n",
      "23/05/26 21:00:40 WARN WindowExec: No Partition Defined for Window operation! Moving all data to a single partition, this can cause serious performance degradation.\n",
      "23/05/26 21:00:40 WARN WindowExec: No Partition Defined for Window operation! Moving all data to a single partition, this can cause serious performance degradation.\n",
      "23/05/26 21:00:40 WARN WindowExec: No Partition Defined for Window operation! Moving all data to a single partition, this can cause serious performance degradation.\n",
      "+------+----------+----+--------------------+\n",
      "|  page|page_count|rank|          created_on|\n",
      "+------+----------+----+--------------------+\n",
      "| Page8|     10142|   1|2023-05-26 21:00:...|\n",
      "| Page2|     10100|   2|2023-05-26 21:00:...|\n",
      "| Page7|     10090|   3|2023-05-26 21:00:...|\n",
      "| Page5|     10042|   4|2023-05-26 21:00:...|\n",
      "| Page4|     10002|   5|2023-05-26 21:00:...|\n",
      "| Page6|      9990|   6|2023-05-26 21:00:...|\n",
      "| Page3|      9982|   7|2023-05-26 21:00:...|\n",
      "| Page1|      9962|   8|2023-05-26 21:00:...|\n",
      "|Page10|      9922|   9|2023-05-26 21:00:...|\n",
      "| Page9|      9768|  10|2023-05-26 21:00:...|\n",
      "+------+----------+----+--------------------+\n",
      "\n"
     ]
    }
   ],
   "source": [
    "page_popularity_df.show()"
   ]
  },
  {
   "attachments": {},
   "cell_type": "markdown",
   "metadata": {},
   "source": [
    "Users per page:"
   ]
  },
  {
   "cell_type": "code",
   "execution_count": 47,
   "metadata": {},
   "outputs": [],
   "source": [
    "page_user_session_count_df = df_dataset1.groupBy(\"user_id\",\"session_id\",\"page\").agg(count(\"user_id\").alias(\"page_count\"))"
   ]
  },
  {
   "cell_type": "code",
   "execution_count": 48,
   "metadata": {},
   "outputs": [],
   "source": [
    "user_per_page_count_df_ = page_user_session_count_df.groupBy(\"page\").agg(count(\"page_count\").alias(\"user_per_page_count\"))"
   ]
  },
  {
   "cell_type": "code",
   "execution_count": 49,
   "metadata": {},
   "outputs": [],
   "source": [
    "user_per_page_count_df_ = user_per_page_count_df_.withColumn(\"created_on\", current_timestamp())"
   ]
  },
  {
   "cell_type": "code",
   "execution_count": 50,
   "metadata": {},
   "outputs": [
    {
     "name": "stderr",
     "output_type": "stream",
     "text": [
      "[Stage 63:>                                                         (0 + 1) / 1]\r"
     ]
    },
    {
     "name": "stdout",
     "output_type": "stream",
     "text": [
      "+------+-------------------+--------------------+\n",
      "|  page|user_per_page_count|          created_on|\n",
      "+------+-------------------+--------------------+\n",
      "| Page3|               3779|2023-05-26 21:00:...|\n",
      "| Page4|               3766|2023-05-26 21:00:...|\n",
      "| Page6|               3738|2023-05-26 21:00:...|\n",
      "| Page7|               3770|2023-05-26 21:00:...|\n",
      "|Page10|               3716|2023-05-26 21:00:...|\n",
      "| Page2|               3788|2023-05-26 21:00:...|\n",
      "| Page5|               3795|2023-05-26 21:00:...|\n",
      "| Page8|               3816|2023-05-26 21:00:...|\n",
      "| Page9|               3665|2023-05-26 21:00:...|\n",
      "| Page1|               3721|2023-05-26 21:00:...|\n",
      "+------+-------------------+--------------------+\n",
      "\n"
     ]
    },
    {
     "name": "stderr",
     "output_type": "stream",
     "text": [
      "                                                                                \r"
     ]
    }
   ],
   "source": [
    "user_per_page_count_df_.show()"
   ]
  },
  {
   "attachments": {},
   "cell_type": "markdown",
   "metadata": {},
   "source": [
    "Transactions per page:"
   ]
  },
  {
   "cell_type": "code",
   "execution_count": 51,
   "metadata": {},
   "outputs": [],
   "source": [
    "df_page_trans = df_dataset1.join(df_dataset2, (df_dataset1.user_id == df_dataset2.user_id) &\n",
    "   (df_dataset1.session_id == df_dataset2.session_id)) \\\n",
    "   .select(df_dataset1.user_id, df_dataset1.session_id, df_dataset1.timestamp_page, df_dataset2.timestamp_trans, df_dataset1.page)"
   ]
  },
  {
   "cell_type": "code",
   "execution_count": 52,
   "metadata": {},
   "outputs": [],
   "source": [
    "df_page_trans_edit = df_page_trans.withColumn('timestamp_delta', (df_page_trans.timestamp_trans - df_page_trans.timestamp_page))"
   ]
  },
  {
   "cell_type": "code",
   "execution_count": 53,
   "metadata": {},
   "outputs": [],
   "source": [
    "timestampRankSpec = Window.partitionBy(\"user_id\", \"session_id\").orderBy(\"timestamp_delta\")\n",
    "df_page_trans_delta_ranked = df_page_trans_edit.withColumn(\"rank\", rank().over(timestampRankSpec))"
   ]
  },
  {
   "cell_type": "code",
   "execution_count": 54,
   "metadata": {},
   "outputs": [],
   "source": [
    "trans_per_page_df = df_page_trans_delta_ranked.filter(\"rank = 1\")"
   ]
  },
  {
   "cell_type": "code",
   "execution_count": 55,
   "metadata": {},
   "outputs": [],
   "source": [
    "trans_per_page_count_df = trans_per_page_df.groupBy(\"page\").agg(count(\"rank\").alias(\"trans_per_page\"))"
   ]
  },
  {
   "cell_type": "code",
   "execution_count": 56,
   "metadata": {},
   "outputs": [],
   "source": [
    "trans_per_page_count_df = trans_per_page_count_df.withColumn(\"created_on\", current_timestamp())"
   ]
  },
  {
   "cell_type": "code",
   "execution_count": 57,
   "metadata": {},
   "outputs": [
    {
     "name": "stderr",
     "output_type": "stream",
     "text": [
      "[Stage 74:>                                                         (0 + 1) / 1]\r"
     ]
    },
    {
     "name": "stdout",
     "output_type": "stream",
     "text": [
      "+------+--------------+--------------------+\n",
      "|  page|trans_per_page|          created_on|\n",
      "+------+--------------+--------------------+\n",
      "| Page3|          3652|2023-05-26 21:00:...|\n",
      "| Page4|          3424|2023-05-26 21:00:...|\n",
      "| Page6|          3680|2023-05-26 21:00:...|\n",
      "| Page7|          3584|2023-05-26 21:00:...|\n",
      "|Page10|          3604|2023-05-26 21:00:...|\n",
      "| Page2|          3644|2023-05-26 21:00:...|\n",
      "| Page5|          3576|2023-05-26 21:00:...|\n",
      "| Page8|          3652|2023-05-26 21:00:...|\n",
      "| Page9|          3632|2023-05-26 21:00:...|\n",
      "| Page1|          3540|2023-05-26 21:00:...|\n",
      "+------+--------------+--------------------+\n",
      "\n"
     ]
    },
    {
     "name": "stderr",
     "output_type": "stream",
     "text": [
      "                                                                                \r"
     ]
    }
   ],
   "source": [
    "trans_per_page_count_df.show()"
   ]
  },
  {
   "attachments": {},
   "cell_type": "markdown",
   "metadata": {},
   "source": [
    "Purchase time per user:"
   ]
  },
  {
   "cell_type": "code",
   "execution_count": 58,
   "metadata": {},
   "outputs": [],
   "source": [
    "timestampRankSpecDesc = Window.partitionBy(\"user_id\", \"session_id\").orderBy(desc(\"timestamp_delta\"))\n",
    "df_page_trans_delta_ranked_desc = df_page_trans_edit.withColumn(\"rank\", rank().over(timestampRankSpecDesc))"
   ]
  },
  {
   "cell_type": "code",
   "execution_count": 59,
   "metadata": {},
   "outputs": [],
   "source": [
    "purchace_time_df = df_page_trans_delta_ranked_desc.filter(\"rank = 1\")"
   ]
  },
  {
   "cell_type": "code",
   "execution_count": 60,
   "metadata": {},
   "outputs": [],
   "source": [
    "purchace_time_per_user_df = purchace_time_df.groupBy(\"user_id\").agg(round(avg(\"timestamp_delta\"),2).alias(\"purchace_time_per_user\"))"
   ]
  },
  {
   "cell_type": "code",
   "execution_count": 61,
   "metadata": {},
   "outputs": [],
   "source": [
    "purchace_time_per_user_df = purchace_time_per_user_df.withColumn(\"created_on\", current_timestamp())"
   ]
  },
  {
   "cell_type": "code",
   "execution_count": 62,
   "metadata": {},
   "outputs": [
    {
     "name": "stderr",
     "output_type": "stream",
     "text": [
      "[Stage 83:>                                                         (0 + 1) / 1]\r"
     ]
    },
    {
     "name": "stdout",
     "output_type": "stream",
     "text": [
      "+-------+----------------------+--------------------+\n",
      "|user_id|purchace_time_per_user|          created_on|\n",
      "+-------+----------------------+--------------------+\n",
      "|U560627|            -887646.65|2023-05-26 21:00:...|\n",
      "|U690705|               1176.65|2023-05-26 21:00:...|\n",
      "|U866891|                1027.1|2023-05-26 21:00:...|\n",
      "|U137656|             595366.88|2023-05-26 21:00:...|\n",
      "|U197780|               1794.43|2023-05-26 21:00:...|\n",
      "|U227446|               1347.53|2023-05-26 21:00:...|\n",
      "|U680488|                1126.3|2023-05-26 21:00:...|\n",
      "|U216704|               1747.33|2023-05-26 21:00:...|\n",
      "|U939318|               1455.87|2023-05-26 21:00:...|\n",
      "|U139713|               1406.17|2023-05-26 21:00:...|\n",
      "|U528371|               1208.82|2023-05-26 21:00:...|\n",
      "|U496385|                 878.0|2023-05-26 21:00:...|\n",
      "|U781771|               1322.53|2023-05-26 21:00:...|\n",
      "|U394114|               1589.25|2023-05-26 21:00:...|\n",
      "|U648815|               1001.23|2023-05-26 21:00:...|\n",
      "|U437532|               1336.23|2023-05-26 21:00:...|\n",
      "|U909155|                1277.8|2023-05-26 21:00:...|\n",
      "|U955227|                1671.0|2023-05-26 21:00:...|\n",
      "|U342351|             223337.29|2023-05-26 21:00:...|\n",
      "|U403419|               1776.33|2023-05-26 21:00:...|\n",
      "+-------+----------------------+--------------------+\n",
      "only showing top 20 rows\n",
      "\n"
     ]
    },
    {
     "name": "stderr",
     "output_type": "stream",
     "text": [
      "                                                                                \r"
     ]
    }
   ],
   "source": [
    "purchace_time_per_user_df.show()"
   ]
  },
  {
   "cell_type": "code",
   "execution_count": 63,
   "metadata": {},
   "outputs": [],
   "source": [
    "url = \"jdbc:postgresql://localhost:5432/bespot1\"\n",
    "\n",
    "properties = {\n",
    "    \"user\": \"myprojectuser\",\n",
    "    \"password\": \"password\",\n",
    "    \"driver\": \"org.postgresql.Driver\"\n",
    "}\n",
    "\n",
    "mode = \"overwrite\""
   ]
  },
  {
   "cell_type": "code",
   "execution_count": 64,
   "metadata": {},
   "outputs": [
    {
     "name": "stdout",
     "output_type": "stream",
     "text": [
      "23/05/26 21:00:54 WARN WindowExec: No Partition Defined for Window operation! Moving all data to a single partition, this can cause serious performance degradation.\n",
      "23/05/26 21:00:54 WARN WindowExec: No Partition Defined for Window operation! Moving all data to a single partition, this can cause serious performance degradation.\n",
      "23/05/26 21:00:54 WARN WindowExec: No Partition Defined for Window operation! Moving all data to a single partition, this can cause serious performance degradation.\n",
      "23/05/26 21:00:54 WARN WindowExec: No Partition Defined for Window operation! Moving all data to a single partition, this can cause serious performance degradation.\n",
      "23/05/26 21:00:54 WARN WindowExec: No Partition Defined for Window operation! Moving all data to a single partition, this can cause serious performance degradation.\n",
      "23/05/26 21:00:54 WARN WindowExec: No Partition Defined for Window operation! Moving all data to a single partition, this can cause serious performance degradation.\n",
      "+------+----------+----+--------------------+\n",
      "|  page|page_count|rank|          created_on|\n",
      "+------+----------+----+--------------------+\n",
      "| Page8|     10142|   1|2023-05-26 21:00:...|\n",
      "| Page2|     10100|   2|2023-05-26 21:00:...|\n",
      "| Page7|     10090|   3|2023-05-26 21:00:...|\n",
      "| Page5|     10042|   4|2023-05-26 21:00:...|\n",
      "| Page4|     10002|   5|2023-05-26 21:00:...|\n",
      "| Page6|      9990|   6|2023-05-26 21:00:...|\n",
      "| Page3|      9982|   7|2023-05-26 21:00:...|\n",
      "| Page1|      9962|   8|2023-05-26 21:00:...|\n",
      "|Page10|      9922|   9|2023-05-26 21:00:...|\n",
      "| Page9|      9768|  10|2023-05-26 21:00:...|\n",
      "+------+----------+----+--------------------+\n",
      "\n"
     ]
    }
   ],
   "source": [
    "page_popularity_df.show()\n"
   ]
  },
  {
   "cell_type": "code",
   "execution_count": 65,
   "metadata": {},
   "outputs": [
    {
     "name": "stdout",
     "output_type": "stream",
     "text": [
      "23/05/26 21:00:55 WARN WindowExec: No Partition Defined for Window operation! Moving all data to a single partition, this can cause serious performance degradation.\n",
      "23/05/26 21:00:55 WARN WindowExec: No Partition Defined for Window operation! Moving all data to a single partition, this can cause serious performance degradation.\n",
      "23/05/26 21:00:55 WARN WindowExec: No Partition Defined for Window operation! Moving all data to a single partition, this can cause serious performance degradation.\n",
      "23/05/26 21:00:56 WARN WindowExec: No Partition Defined for Window operation! Moving all data to a single partition, this can cause serious performance degradation.\n",
      "23/05/26 21:00:56 WARN WindowExec: No Partition Defined for Window operation! Moving all data to a single partition, this can cause serious performance degradation.\n",
      "23/05/26 21:00:56 WARN WindowExec: No Partition Defined for Window operation! Moving all data to a single partition, this can cause serious performance degradation.\n",
      "23/05/26 21:00:56 WARN WindowExec: No Partition Defined for Window operation! Moving all data to a single partition, this can cause serious performance degradation.\n"
     ]
    }
   ],
   "source": [
    "page_popularity_df.write.jdbc(url=url, table='page_hits', mode=mode, properties=properties)"
   ]
  },
  {
   "cell_type": "code",
   "execution_count": 66,
   "metadata": {},
   "outputs": [
    {
     "name": "stderr",
     "output_type": "stream",
     "text": [
      "                                                                                \r"
     ]
    }
   ],
   "source": [
    "user_per_page_count_df_.write.jdbc(url=url, table='page_users', mode=mode, properties=properties)"
   ]
  },
  {
   "cell_type": "code",
   "execution_count": 67,
   "metadata": {},
   "outputs": [
    {
     "name": "stderr",
     "output_type": "stream",
     "text": [
      "                                                                                \r"
     ]
    }
   ],
   "source": [
    "trans_per_page_count_df.write.jdbc(url=url, table='page_trans', mode=mode, properties=properties)"
   ]
  },
  {
   "cell_type": "code",
   "execution_count": 68,
   "metadata": {},
   "outputs": [
    {
     "name": "stderr",
     "output_type": "stream",
     "text": [
      "                                                                                \r"
     ]
    }
   ],
   "source": [
    "purchace_time_per_user_df.write.jdbc(url=url, table='user_purchasing_time', mode=mode, properties=properties)"
   ]
  }
 ],
 "metadata": {
  "kernelspec": {
   "display_name": "base",
   "language": "python",
   "name": "python3"
  },
  "language_info": {
   "codemirror_mode": {
    "name": "ipython",
    "version": 3
   },
   "file_extension": ".py",
   "mimetype": "text/x-python",
   "name": "python",
   "nbconvert_exporter": "python",
   "pygments_lexer": "ipython3",
   "version": "3.9.16"
  },
  "orig_nbformat": 4
 },
 "nbformat": 4,
 "nbformat_minor": 2
}
